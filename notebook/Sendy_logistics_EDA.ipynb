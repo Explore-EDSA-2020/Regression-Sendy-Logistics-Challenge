{
 "cells": [
  {
   "cell_type": "markdown",
   "metadata": {},
   "source": [
    "# SENDY LOGISTICS EXPLORITORY DATA ANALYSIS \n",
    "---\n",
    "1. Make your **1st line a comment**, just to give clarity to the Team about the task/code used.\n",
    "2. If you happen to get a **CODE snippet** from **stackoverflow/Blog**, Make your **2nd line the link referencing the code/post**. for later reference if team members need clarity.\n",
    "\n",
    "---\n",
    "## HEADS UP\n",
    "*The following steps will serve as a guide-line not mandatory step and they might not be in order.*\n",
    "\n",
    "\n"
   ]
  },
  {
   "cell_type": "markdown",
   "metadata": {},
   "source": [
    "# 1. Library Imports\n",
    "---\n",
    "Keep it clean, import Libraries at the Top!"
   ]
  },
  {
   "cell_type": "code",
   "execution_count": 1,
   "metadata": {},
   "outputs": [],
   "source": [
    "# data manipulation\n",
    "import pandas as pd\n",
    "import numpy as np\n",
    "\n",
    "# data visualization\n",
    "import matplotlib.pyplot as plt\n",
    "%matplotlib inline\n",
    "import seaborn as sns\n",
    "\n",
    "# More imports Below\n"
   ]
  },
  {
   "cell_type": "markdown",
   "metadata": {},
   "source": [
    "# 2. Import Datasets\n",
    "---\n",
    "- By Default the notebook is using the github links to fetch data remotely, change to local if need be. \n",
    "> e.g replace URL_TRAIN with URL_local_TRAIN\n",
    "- DO NOT FORGET TO CHANGE BACK THE LINKS BEFORE CREATING A PULL REQUEST\n",
    "> Use The following Links for Local Machine NoteBooks/Jupyterlab (this will save data)\n",
    ">This assumes the notebook.ipynb is inside the Notebooks folder\n",
    "\n",
    "```python\n",
    "URL_local_TRAIN = \"/data/Train.csv\"\n",
    "URL_local_TEST = \"/data/Test.csv\"\n",
    "URL_local_RIDERS = \"/data/Riders.csv\" \n",
    "URL_local_DD = \"/data/VariableDefinitions.csv\"\n",
    "\n",
    "```\n",
    "---"
   ]
  },
  {
   "cell_type": "code",
   "execution_count": 2,
   "metadata": {},
   "outputs": [],
   "source": [
    "# CONSTANTS\n",
    "\n",
    "URL_TRAIN = \"https://raw.githubusercontent.com/Explore-EDSA-2020/Sendy-Logistics-Challenge/master/data/Train.csv\"\n",
    "URL_TEST = \"https://raw.githubusercontent.com/Explore-EDSA-2020/Sendy-Logistics-Challenge/master/data/Test.csv\"\n",
    "URL_RIDERS = \"https://raw.githubusercontent.com/Explore-EDSA-2020/Sendy-Logistics-Challenge/master/data/Riders.csv\" \n",
    "URL_DD = \"https://raw.githubusercontent.com/Explore-EDSA-2020/Sendy-Logistics-Challenge/master/data/VariableDefinitions.csv\" # Data Dictionary\n"
   ]
  },
  {
   "cell_type": "code",
   "execution_count": 3,
   "metadata": {},
   "outputs": [],
   "source": [
    "# reading the data to dataframe\n",
    "\n",
    "train_df  = pd.read_csv(URL_TRAIN)\n",
    "test_df   = pd.read_csv(URL_TEST)\n",
    "riders_df = pd.read_csv(URL_RIDERS)\n",
    "data_dictionary_df = pd.read_csv(URL_DD)"
   ]
  },
  {
   "cell_type": "code",
   "execution_count": 4,
   "metadata": {},
   "outputs": [
    {
     "name": "stdout",
     "output_type": "stream",
     "text": [
      "train without riders:  (21201, 29)\n",
      "train merged with riders:  (21201, 33)\n",
      "---------------------------------------\n",
      "test without riders:  (7068, 25)\n",
      "test merged with riders:  (7068, 29)\n"
     ]
    }
   ],
   "source": [
    "# making a copy of the data to avoid altering the original data\n",
    "train_riders = train_df.copy()\n",
    "test_riders  = test_df.copy()\n",
    "\n",
    "# merged train with riders\n",
    "train_riders = train_riders.merge(riders_df, how='left', on='Rider Id')\n",
    "test_riders  = test_riders.merge(riders_df, how='left', on='Rider Id')\n",
    "\n",
    "# view dimension\n",
    "print('train without riders: ', train_df.shape)\n",
    "print('train merged with riders: ', train_riders.shape)\n",
    "print('---------------------------------------')\n",
    "print('test without riders: ', test_df.shape)\n",
    "print('test merged with riders: ', test_riders.shape)"
   ]
  },
  {
   "cell_type": "markdown",
   "metadata": {},
   "source": []
  },
  {
   "cell_type": "markdown",
   "metadata": {},
   "source": [
    "# 3. DOMAIN KNOWLEDGE\n",
    "---\n",
    "Read the Data Dictionary to Understand what each Feature Holds."
   ]
  },
  {
   "cell_type": "code",
   "execution_count": null,
   "metadata": {},
   "outputs": [],
   "source": []
  },
  {
   "cell_type": "code",
   "execution_count": null,
   "metadata": {},
   "outputs": [],
   "source": []
  },
  {
   "cell_type": "markdown",
   "metadata": {},
   "source": [
    "# 4. QUICK DATA OVERVIEW\n",
    "---\n",
    "What seems to be odd?"
   ]
  },
  {
   "cell_type": "code",
   "execution_count": 7,
   "metadata": {},
   "outputs": [
    {
     "data": {
      "text/plain": [
       "['Order No',\n",
       " 'User Id',\n",
       " 'Vehicle Type',\n",
       " 'Platform Type',\n",
       " 'Personal or Business',\n",
       " 'Placement - Day of Month',\n",
       " 'Placement - Weekday (Mo = 1)',\n",
       " 'Placement - Time',\n",
       " 'Confirmation - Day of Month',\n",
       " 'Confirmation - Weekday (Mo = 1)',\n",
       " 'Confirmation - Time',\n",
       " 'Arrival at Pickup - Day of Month',\n",
       " 'Arrival at Pickup - Weekday (Mo = 1)',\n",
       " 'Arrival at Pickup - Time',\n",
       " 'Pickup - Day of Month',\n",
       " 'Pickup - Weekday (Mo = 1)',\n",
       " 'Pickup - Time',\n",
       " 'Arrival at Destination - Day of Month',\n",
       " 'Arrival at Destination - Weekday (Mo = 1)',\n",
       " 'Arrival at Destination - Time',\n",
       " 'Distance (KM)',\n",
       " 'Temperature',\n",
       " 'Precipitation in millimeters',\n",
       " 'Pickup Lat',\n",
       " 'Pickup Long',\n",
       " 'Destination Lat',\n",
       " 'Destination Long',\n",
       " 'Rider Id',\n",
       " 'Time from Pickup to Arrival',\n",
       " 'No_Of_Orders',\n",
       " 'Age',\n",
       " 'Average_Rating',\n",
       " 'No_of_Ratings']"
      ]
     },
     "execution_count": 7,
     "metadata": {},
     "output_type": "execute_result"
    }
   ],
   "source": [
    "train_riders.columns.to_list()"
   ]
  },
  {
   "cell_type": "code",
   "execution_count": 9,
   "metadata": {},
   "outputs": [],
   "source": [
    "# get columns from train and test\n",
    "column_train = train_riders.columns.to_list()\n",
    "column_test = test_riders.columns.to_list()\n"
   ]
  },
  {
   "cell_type": "code",
   "execution_count": 12,
   "metadata": {},
   "outputs": [
    {
     "data": {
      "text/plain": [
       "['Arrival at Destination - Day of Month',\n",
       " 'Arrival at Destination - Weekday (Mo = 1)',\n",
       " 'Arrival at Destination - Time']"
      ]
     },
     "execution_count": 12,
     "metadata": {},
     "output_type": "execute_result"
    }
   ],
   "source": [
    "# get columns in trains but not in test excluding the target\n",
    "[column for column in column_train if column not in column_test and column !=  'Time from Pickup to Arrival']"
   ]
  },
  {
   "cell_type": "code",
   "execution_count": null,
   "metadata": {},
   "outputs": [],
   "source": []
  },
  {
   "cell_type": "markdown",
   "metadata": {},
   "source": [
    "# 5. Visualizations\n",
    "---\n",
    "**The 3 ways tree branches to understand the data**\n",
    "1. Composition\n",
    "2. Comparison\n",
    "3. RelationShips\n",
    "---\n",
    "Take it from here!"
   ]
  },
  {
   "cell_type": "code",
   "execution_count": null,
   "metadata": {},
   "outputs": [],
   "source": []
  },
  {
   "cell_type": "code",
   "execution_count": null,
   "metadata": {},
   "outputs": [],
   "source": []
  }
 ],
 "metadata": {
  "kernelspec": {
   "display_name": "Python 3",
   "language": "python",
   "name": "python3"
  },
  "language_info": {
   "codemirror_mode": {
    "name": "ipython",
    "version": 3
   },
   "file_extension": ".py",
   "mimetype": "text/x-python",
   "name": "python",
   "nbconvert_exporter": "python",
   "pygments_lexer": "ipython3",
   "version": "3.7.6"
  }
 },
 "nbformat": 4,
 "nbformat_minor": 4
}
