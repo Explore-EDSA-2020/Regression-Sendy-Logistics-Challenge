{
 "cells": [
  {
   "cell_type": "markdown",
   "metadata": {},
   "source": [
    "# SENDY LOGISTICS EXPLORITORY DATA ANALYSIS \n",
    "---\n",
    "1. Make your **1st line a comment**, just to give clarity to the Team about the task/code used.\n",
    "2. If you happen to get a **CODE snippet** from **stackoverflow/Blog**, Make your **2nd line the link referencing the code/post**. for later reference if team members need clarity.\n",
    "\n",
    "---\n",
    "## HEADS UP\n",
    "*The following steps will serve as a guide-line not mandatory step and they might not be in order.*\n",
    "\n",
    "\n"
   ]
  },
  {
   "cell_type": "markdown",
   "metadata": {},
   "source": [
    "# 1. Library Imports\n",
    "---\n",
    "Keep it clean, import Libraries at the Top!"
   ]
  },
  {
   "cell_type": "code",
   "execution_count": 5,
   "metadata": {},
   "outputs": [],
   "source": [
    "# data manipulation\n",
    "import pandas as pd\n",
    "import numpy as np\n",
    "\n",
    "# data visualization\n",
    "import matplotlib.pyplot as plt\n",
    "%matplotlib inline\n",
    "import seaborn as sns\n",
    "\n",
    "# More imports Below\n"
   ]
  },
  {
   "cell_type": "markdown",
   "metadata": {},
   "source": [
    "# 2. Import Datasets\n",
    "---\n",
    "- By Default the notebook is using the github links to fetch data remotely, change to local if need be. \n",
    "> e.g replace URL_TRAIN with URL_local_TRAIN\n",
    "- DO NOT FORGET TO CHANGE BACK THE LINKS BEFORE CREATING A PULL REQUEST\n",
    "> Use The following Links for Local Machine NoteBooks/Jupyterlab (this will save data)\n",
    ">This assumes the notebook.ipynb is inside the Notebooks folder\n",
    "\n",
    "```python\n",
    "URL_local_TRAIN = \"/data/Train.csv\"\n",
    "URL_local_TEST = \"/data/Test.csv\"\n",
    "URL_local_RIDERS = \"/data/Riders.csv\" \n",
    "URL_local_DD = \"/data/VariableDefinitions.csv\"\n",
    "\n",
    "```\n",
    "---"
   ]
  },
  {
   "cell_type": "code",
   "execution_count": 6,
   "metadata": {},
   "outputs": [],
   "source": [
    "# CONSTANTS\n",
    "\n",
    "URL_TRAIN = \"https://raw.githubusercontent.com/Explore-EDSA-2020/Sendy-Logistics-Challenge/master/data/Train.csv\"\n",
    "URL_TEST = \"https://raw.githubusercontent.com/Explore-EDSA-2020/Sendy-Logistics-Challenge/master/data/Test.csv\"\n",
    "URL_RIDERS = \"https://raw.githubusercontent.com/Explore-EDSA-2020/Sendy-Logistics-Challenge/master/data/Riders.csv\" \n",
    "URL_DD = \"https://raw.githubusercontent.com/Explore-EDSA-2020/Sendy-Logistics-Challenge/master/data/VariableDefinitions.csv\" # Data Dictionary\n"
   ]
  },
  {
   "cell_type": "code",
   "execution_count": 7,
   "metadata": {},
   "outputs": [],
   "source": [
    "# reading the data to dataframe\n",
    "\n",
    "train_df  = pd.read_csv(URL_TRAIN)\n",
    "test_df   = pd.read_csv(URL_TEST)\n",
    "riders_df = pd.read_csv(URL_RIDERS)\n",
    "data_dictionary_df = pd.read_csv(URL_DD)"
   ]
  },
  {
   "cell_type": "code",
   "execution_count": 8,
   "metadata": {},
   "outputs": [
    {
     "name": "stdout",
     "output_type": "stream",
     "text": [
      "train without riders:  (21201, 29)\n",
      "train merged with riders:  (21201, 33)\n",
      "---------------------------------------\n",
      "test without riders:  (7068, 25)\n",
      "test merged with riders:  (7068, 29)\n"
     ]
    }
   ],
   "source": [
    "# making a copy of the data to avoid altering the original data\n",
    "train_riders = train_df.copy()\n",
    "test_riders  = test_df.copy()\n",
    "\n",
    "# merged train with riders\n",
    "train_riders = train_riders.merge(riders_df, how='left', on='Rider Id')\n",
    "test_riders  = test_riders.merge(riders_df, how='left', on='Rider Id')\n",
    "\n",
    "# view dimension\n",
    "print('train without riders: ', train_df.shape)\n",
    "print('train merged with riders: ', train_riders.shape)\n",
    "print('---------------------------------------')\n",
    "print('test without riders: ', test_df.shape)\n",
    "print('test merged with riders: ', test_riders.shape)"
   ]
  },
  {
   "cell_type": "markdown",
   "metadata": {},
   "source": []
  },
  {
   "cell_type": "markdown",
   "metadata": {},
   "source": [
    "# 3. DOMAIN KNOWLEDGE\n",
    "---\n",
    "Read the Data Dictionary to Understand what each Feature Holds."
   ]
  },
  {
   "cell_type": "markdown",
   "metadata": {},
   "source": [
    "### Variables\n",
    "\n",
    "**1. Order details**\n",
    "- Order No – Unique number identifying the order\n",
    "- User Id – Unique number identifying the customer on a platform\n",
    "- Vehicle Type – For this competition limited to bikes, however in practice, Sendy service extends to trucks and vans\n",
    "- Platform Type – Platform used to place the order, there are 4 types\n",
    "- Personal or Business – Customer type\n",
    "\n",
    "**2. Placement times**\n",
    "- Placement - Day of Month i.e 1-31\n",
    "- Placement - Weekday (Monday = 1)\n",
    "- Placement - Time - Time of day the order was placed\n",
    "\n",
    "**3. Confirmation times**\n",
    "- Confirmation - Day of Month i.e 1-31\n",
    "- Confirmation - Weekday (Monday = 1)\n",
    "- Confirmation - Time - time of day the order was confirmed by a rider\n",
    "\n",
    "**4. Arrival at Pickup times**\n",
    "Arrival at Pickup - Day of Month i.e 1-31\n",
    "Arrival at Pickup - Weekday (Monday = 1)\n",
    "Arrival at Pickup - Time - Time of day the rider arrived at the location to pick up the order - as marked by the rider through the Sendy application\n",
    "\n",
    "**5. Pickup times**\n",
    "- Pickup - Day of Month i.e 1-31\n",
    "- Pickup - Weekday (Monday = 1)\n",
    "- Pickup - Time - Time of day the rider picked up the order - as marked by the rider through the Sendy application\n",
    "\n",
    "\n",
    "**Arrival at Destination times (column missing in Test set)**\n",
    "\n",
    "- Arrival at Delivery - Day of Month i.e 1-31\n",
    "- Arrival at Delivery - Weekday (Monday = 1)\n",
    "- Arrival at Delivery - Time - Time of day the rider arrived at the destination to deliver the order - as marked by the rider through the Sendy application\n",
    "- Distance covered (KM) - The distance from Pickup to Destination\n",
    "\n",
    "- Temperature -Temperature at the time of order placement in Degrees Celsius (measured every three hours)\n",
    "- Precipitation in Millimeters - Precipitation at the time of order placement (measured every three hours)\n",
    "- Pickup Latitude and Longitude - Latitude and longitude of pick up location\n",
    "- Destination Latitude and Longitude - Latitude and longitude of delivery location\n",
    "- Rider ID – ID of the Rider who accepted the order\n",
    "- Time from Pickup to Arrival - Time in seconds between ‘Pickup’ and ‘Arrival at Destination’ - calculated from the columns for the purpose of facilitating the task\n",
    "\n",
    "**Rider metrics**\n",
    "- Rider ID – Unique number identifying the rider (same as in order details)\n",
    "- No of Orders – Number of Orders the rider has delivered\n",
    "- Age – Number of days since the rider delivered the first order\n",
    "- Average Rating – Average rating of the rider\n",
    "- No of Ratings - Number of ratings the rider has received. Rating an order is optional for the customer."
   ]
  },
  {
   "cell_type": "markdown",
   "metadata": {},
   "source": [
    "# 4. QUICK DATA OVERVIEW\n",
    "---\n",
    "What seems to be odd?"
   ]
  },
  {
   "cell_type": "markdown",
   "metadata": {},
   "source": [
    "**------------------------------riders data------------------------------**"
   ]
  },
  {
   "cell_type": "code",
   "execution_count": 9,
   "metadata": {},
   "outputs": [
    {
     "data": {
      "text/html": [
       "<div>\n",
       "<style scoped>\n",
       "    .dataframe tbody tr th:only-of-type {\n",
       "        vertical-align: middle;\n",
       "    }\n",
       "\n",
       "    .dataframe tbody tr th {\n",
       "        vertical-align: top;\n",
       "    }\n",
       "\n",
       "    .dataframe thead th {\n",
       "        text-align: right;\n",
       "    }\n",
       "</style>\n",
       "<table border=\"1\" class=\"dataframe\">\n",
       "  <thead>\n",
       "    <tr style=\"text-align: right;\">\n",
       "      <th></th>\n",
       "      <th>Rider Id</th>\n",
       "      <th>No_Of_Orders</th>\n",
       "      <th>Age</th>\n",
       "      <th>Average_Rating</th>\n",
       "      <th>No_of_Ratings</th>\n",
       "    </tr>\n",
       "  </thead>\n",
       "  <tbody>\n",
       "    <tr>\n",
       "      <th>0</th>\n",
       "      <td>Rider_Id_396</td>\n",
       "      <td>2946</td>\n",
       "      <td>2298</td>\n",
       "      <td>14.0</td>\n",
       "      <td>1159</td>\n",
       "    </tr>\n",
       "    <tr>\n",
       "      <th>1</th>\n",
       "      <td>Rider_Id_479</td>\n",
       "      <td>360</td>\n",
       "      <td>951</td>\n",
       "      <td>13.5</td>\n",
       "      <td>176</td>\n",
       "    </tr>\n",
       "    <tr>\n",
       "      <th>2</th>\n",
       "      <td>Rider_Id_648</td>\n",
       "      <td>1746</td>\n",
       "      <td>821</td>\n",
       "      <td>14.3</td>\n",
       "      <td>466</td>\n",
       "    </tr>\n",
       "    <tr>\n",
       "      <th>3</th>\n",
       "      <td>Rider_Id_753</td>\n",
       "      <td>314</td>\n",
       "      <td>980</td>\n",
       "      <td>12.5</td>\n",
       "      <td>75</td>\n",
       "    </tr>\n",
       "    <tr>\n",
       "      <th>4</th>\n",
       "      <td>Rider_Id_335</td>\n",
       "      <td>536</td>\n",
       "      <td>1113</td>\n",
       "      <td>13.7</td>\n",
       "      <td>156</td>\n",
       "    </tr>\n",
       "    <tr>\n",
       "      <th>...</th>\n",
       "      <td>...</td>\n",
       "      <td>...</td>\n",
       "      <td>...</td>\n",
       "      <td>...</td>\n",
       "      <td>...</td>\n",
       "    </tr>\n",
       "    <tr>\n",
       "      <th>955</th>\n",
       "      <td>Rider_Id_896</td>\n",
       "      <td>152</td>\n",
       "      <td>99</td>\n",
       "      <td>12.4</td>\n",
       "      <td>18</td>\n",
       "    </tr>\n",
       "    <tr>\n",
       "      <th>956</th>\n",
       "      <td>Rider_Id_149</td>\n",
       "      <td>69</td>\n",
       "      <td>101</td>\n",
       "      <td>10.2</td>\n",
       "      <td>10</td>\n",
       "    </tr>\n",
       "    <tr>\n",
       "      <th>957</th>\n",
       "      <td>Rider_Id_270</td>\n",
       "      <td>338</td>\n",
       "      <td>96</td>\n",
       "      <td>14.4</td>\n",
       "      <td>41</td>\n",
       "    </tr>\n",
       "    <tr>\n",
       "      <th>958</th>\n",
       "      <td>Rider_Id_201</td>\n",
       "      <td>159</td>\n",
       "      <td>96</td>\n",
       "      <td>15.0</td>\n",
       "      <td>9</td>\n",
       "    </tr>\n",
       "    <tr>\n",
       "      <th>959</th>\n",
       "      <td>Rider_Id_904</td>\n",
       "      <td>172</td>\n",
       "      <td>108</td>\n",
       "      <td>13.7</td>\n",
       "      <td>18</td>\n",
       "    </tr>\n",
       "  </tbody>\n",
       "</table>\n",
       "<p>960 rows × 5 columns</p>\n",
       "</div>"
      ],
      "text/plain": [
       "         Rider Id  No_Of_Orders   Age  Average_Rating  No_of_Ratings\n",
       "0    Rider_Id_396          2946  2298            14.0           1159\n",
       "1    Rider_Id_479           360   951            13.5            176\n",
       "2    Rider_Id_648          1746   821            14.3            466\n",
       "3    Rider_Id_753           314   980            12.5             75\n",
       "4    Rider_Id_335           536  1113            13.7            156\n",
       "..            ...           ...   ...             ...            ...\n",
       "955  Rider_Id_896           152    99            12.4             18\n",
       "956  Rider_Id_149            69   101            10.2             10\n",
       "957  Rider_Id_270           338    96            14.4             41\n",
       "958  Rider_Id_201           159    96            15.0              9\n",
       "959  Rider_Id_904           172   108            13.7             18\n",
       "\n",
       "[960 rows x 5 columns]"
      ]
     },
     "execution_count": 9,
     "metadata": {},
     "output_type": "execute_result"
    }
   ],
   "source": [
    "# Riders data overview \n",
    "riders_df"
   ]
  },
  {
   "cell_type": "code",
   "execution_count": 10,
   "metadata": {},
   "outputs": [
    {
     "name": "stdout",
     "output_type": "stream",
     "text": [
      "<class 'pandas.core.frame.DataFrame'>\n",
      "RangeIndex: 960 entries, 0 to 959\n",
      "Data columns (total 5 columns):\n",
      " #   Column          Non-Null Count  Dtype  \n",
      "---  ------          --------------  -----  \n",
      " 0   Rider Id        960 non-null    object \n",
      " 1   No_Of_Orders    960 non-null    int64  \n",
      " 2   Age             960 non-null    int64  \n",
      " 3   Average_Rating  960 non-null    float64\n",
      " 4   No_of_Ratings   960 non-null    int64  \n",
      "dtypes: float64(1), int64(3), object(1)\n",
      "memory usage: 37.6+ KB\n"
     ]
    }
   ],
   "source": [
    "# investigate missing values and the data type \n",
    "riders_df.info()"
   ]
  },
  {
   "cell_type": "code",
   "execution_count": 11,
   "metadata": {},
   "outputs": [
    {
     "data": {
      "text/plain": [
       "960"
      ]
     },
     "execution_count": 11,
     "metadata": {},
     "output_type": "execute_result"
    }
   ],
   "source": [
    "# check if really the rider's id is unique, to understand how many riders do we have\n",
    "riders_df['Rider Id'].nunique()"
   ]
  },
  {
   "cell_type": "code",
   "execution_count": 12,
   "metadata": {},
   "outputs": [
    {
     "data": {
      "text/html": [
       "<div>\n",
       "<style scoped>\n",
       "    .dataframe tbody tr th:only-of-type {\n",
       "        vertical-align: middle;\n",
       "    }\n",
       "\n",
       "    .dataframe tbody tr th {\n",
       "        vertical-align: top;\n",
       "    }\n",
       "\n",
       "    .dataframe thead th {\n",
       "        text-align: right;\n",
       "    }\n",
       "</style>\n",
       "<table border=\"1\" class=\"dataframe\">\n",
       "  <thead>\n",
       "    <tr style=\"text-align: right;\">\n",
       "      <th></th>\n",
       "      <th>No_Of_Orders</th>\n",
       "      <th>Age</th>\n",
       "      <th>Average_Rating</th>\n",
       "      <th>No_of_Ratings</th>\n",
       "    </tr>\n",
       "  </thead>\n",
       "  <tbody>\n",
       "    <tr>\n",
       "      <th>count</th>\n",
       "      <td>960.000000</td>\n",
       "      <td>960.000000</td>\n",
       "      <td>960.000000</td>\n",
       "      <td>960.000000</td>\n",
       "    </tr>\n",
       "    <tr>\n",
       "      <th>mean</th>\n",
       "      <td>1864.851042</td>\n",
       "      <td>1200.234375</td>\n",
       "      <td>13.412604</td>\n",
       "      <td>427.983333</td>\n",
       "    </tr>\n",
       "    <tr>\n",
       "      <th>std</th>\n",
       "      <td>1880.337785</td>\n",
       "      <td>810.930171</td>\n",
       "      <td>2.675794</td>\n",
       "      <td>486.957931</td>\n",
       "    </tr>\n",
       "    <tr>\n",
       "      <th>min</th>\n",
       "      <td>2.000000</td>\n",
       "      <td>96.000000</td>\n",
       "      <td>0.000000</td>\n",
       "      <td>0.000000</td>\n",
       "    </tr>\n",
       "    <tr>\n",
       "      <th>25%</th>\n",
       "      <td>261.750000</td>\n",
       "      <td>478.250000</td>\n",
       "      <td>13.500000</td>\n",
       "      <td>30.000000</td>\n",
       "    </tr>\n",
       "    <tr>\n",
       "      <th>50%</th>\n",
       "      <td>1475.500000</td>\n",
       "      <td>1021.000000</td>\n",
       "      <td>14.000000</td>\n",
       "      <td>223.000000</td>\n",
       "    </tr>\n",
       "    <tr>\n",
       "      <th>75%</th>\n",
       "      <td>2847.250000</td>\n",
       "      <td>1891.500000</td>\n",
       "      <td>14.300000</td>\n",
       "      <td>678.750000</td>\n",
       "    </tr>\n",
       "    <tr>\n",
       "      <th>max</th>\n",
       "      <td>9756.000000</td>\n",
       "      <td>3764.000000</td>\n",
       "      <td>15.200000</td>\n",
       "      <td>2298.000000</td>\n",
       "    </tr>\n",
       "  </tbody>\n",
       "</table>\n",
       "</div>"
      ],
      "text/plain": [
       "       No_Of_Orders          Age  Average_Rating  No_of_Ratings\n",
       "count    960.000000   960.000000      960.000000     960.000000\n",
       "mean    1864.851042  1200.234375       13.412604     427.983333\n",
       "std     1880.337785   810.930171        2.675794     486.957931\n",
       "min        2.000000    96.000000        0.000000       0.000000\n",
       "25%      261.750000   478.250000       13.500000      30.000000\n",
       "50%     1475.500000  1021.000000       14.000000     223.000000\n",
       "75%     2847.250000  1891.500000       14.300000     678.750000\n",
       "max     9756.000000  3764.000000       15.200000    2298.000000"
      ]
     },
     "execution_count": 12,
     "metadata": {},
     "output_type": "execute_result"
    }
   ],
   "source": [
    "# get the summary statistics of the riders\n",
    "# We wish to undersatnd the average number of orders made, later on we will check per rider\n",
    "riders_df.describe()"
   ]
  },
  {
   "cell_type": "markdown",
   "metadata": {},
   "source": [
    "NOTES:\n",
    "- So we have **960 unique riders** with No Missing Values\n",
    "- we should later try to investigate existing outliers. \n",
    "- on avarage the orders collected by the riders is **1864.851042** with MAX = **9756.000000**\n",
    "- The Age seems to represent exprience of the riders, meaning Age above 50% the rider must be some-how faster at delivary. does that better explain the target?\n",
    "- Assupmtions are:\n",
    "   - Age < 25% basic rider (25% of the riders are basic riders)\n",
    "   - Age < 50% or Age <= 1200.234375 Intermediate rider\n",
    "   - Age < 75% Advanced rider\n",
    "   - This might be a potential feature e.g **riders_rank-->   {basic, Intermediate, Advanced }**\n",
    "- interesting features are:\n",
    "    - Age\t \n",
    "    - Average_Rating\t\n",
    "    - No_of_Ratings \t\n",
    "    \n",
    "> whats's the method used to rate the riders, what factor rate?\n",
    "\n",
    "> Does Age and No of orders better explain the target?"
   ]
  },
  {
   "cell_type": "markdown",
   "metadata": {},
   "source": [
    "**------------------------------Train data with riders------------------------------**"
   ]
  },
  {
   "cell_type": "code",
   "execution_count": 13,
   "metadata": {},
   "outputs": [
    {
     "data": {
      "text/plain": [
       "['Arrival at Destination - Day of Month',\n",
       " 'Arrival at Destination - Weekday (Mo = 1)',\n",
       " 'Arrival at Destination - Time']"
      ]
     },
     "execution_count": 13,
     "metadata": {},
     "output_type": "execute_result"
    }
   ],
   "source": [
    "# Lets verify what we got from domain knowledge section\n",
    "# get columns from train and test\n",
    "column_train = train_riders.columns.to_list()\n",
    "column_test = test_riders.columns.to_list()\n",
    "\n",
    "# get columns in trains but not in test excluding the target\n",
    "[column for column in column_train if column not in column_test and column !=  'Time from Pickup to Arrival']"
   ]
  },
  {
   "cell_type": "code",
   "execution_count": null,
   "metadata": {},
   "outputs": [],
   "source": []
  },
  {
   "cell_type": "markdown",
   "metadata": {},
   "source": [
    "# 5. Visualizations\n",
    "---\n",
    "**The 3 ways tree branches to understand the data**\n",
    "1. Composition\n",
    "2. Comparison\n",
    "3. RelationShips\n",
    "---\n",
    "Take it from here!"
   ]
  },
  {
   "cell_type": "code",
   "execution_count": null,
   "metadata": {},
   "outputs": [],
   "source": []
  },
  {
   "cell_type": "code",
   "execution_count": null,
   "metadata": {},
   "outputs": [],
   "source": []
  }
 ],
 "metadata": {
  "kernelspec": {
   "display_name": "Python 3",
   "language": "python",
   "name": "python3"
  },
  "language_info": {
   "codemirror_mode": {
    "name": "ipython",
    "version": 3
   },
   "file_extension": ".py",
   "mimetype": "text/x-python",
   "name": "python",
   "nbconvert_exporter": "python",
   "pygments_lexer": "ipython3",
   "version": "3.7.6"
  }
 },
 "nbformat": 4,
 "nbformat_minor": 4
}
