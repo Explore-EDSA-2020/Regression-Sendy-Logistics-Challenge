{
 "cells": [
  {
   "cell_type": "markdown",
   "metadata": {},
   "source": [
    "##### prepare the model with target scaling\n",
    "model = TransformedTargetRegressor(regressor=pipeline, transformer=MinMaxScaler())\n",
    "\n",
    "##### evaluate model\n",
    "cv = KFold(n_splits=10, shuffle=True, random_state=1)\n",
    "scores = cross_val_score(model, X, y, scoring='neg_mean_absolute_error', cv=cv, n_jobs=-1)\n",
    "\n",
    "[transform-target-variables-for-regression](https://machinelearningmastery.com/how-to-transform-target-variables-for-regression-with-scikit-learn/)"
   ]
  },
  {
   "cell_type": "markdown",
   "metadata": {},
   "source": [
    "# installation"
   ]
  },
  {
   "cell_type": "code",
   "execution_count": 3,
   "metadata": {
    "ExecuteTime": {
     "end_time": "2020-05-31T23:42:15.217916Z",
     "start_time": "2020-05-31T23:41:36.873930Z"
    },
    "collapsed": true
   },
   "outputs": [
    {
     "name": "stdout",
     "output_type": "stream",
     "text": [
      "Collecting catboost\n",
      "  Using cached https://files.pythonhosted.org/packages/26/3e/9af57f5b02f16f69d68f287771f2c42d323a0756872917cb3bd485802487/catboost-0.23.2-cp37-none-manylinux1_x86_64.whl\n",
      "Requirement already satisfied: six in /opt/conda/lib/python3.7/site-packages (from catboost) (1.12.0)\n",
      "Requirement already satisfied: matplotlib in /opt/conda/lib/python3.7/site-packages (from catboost) (3.0.3)\n",
      "Collecting plotly (from catboost)\n",
      "  Using cached https://files.pythonhosted.org/packages/70/56/eabdc7b7187cdb9d6121f6de2831ad5b85f7d002fa4bfe0476dbdb554bf6/plotly-4.8.1-py2.py3-none-any.whl\n",
      "Collecting graphviz (from catboost)\n",
      "  Using cached https://files.pythonhosted.org/packages/83/cc/c62100906d30f95d46451c15eb407da7db201e30f42008f3643945910373/graphviz-0.14-py2.py3-none-any.whl\n",
      "Requirement already satisfied: pandas>=0.24.0 in /opt/conda/lib/python3.7/site-packages (from catboost) (0.24.2)\n",
      "Requirement already satisfied: scipy in /opt/conda/lib/python3.7/site-packages (from catboost) (1.2.1)\n",
      "Collecting numpy>=1.16.0 (from catboost)\n",
      "  Using cached https://files.pythonhosted.org/packages/1f/df/7988fbbdc8c9b8efb575029498ad84b77e023a3e4623e85068823a102b1d/numpy-1.18.4-cp37-cp37m-manylinux1_x86_64.whl\n",
      "Requirement already satisfied: cycler>=0.10 in /opt/conda/lib/python3.7/site-packages (from matplotlib->catboost) (0.10.0)\n",
      "Requirement already satisfied: kiwisolver>=1.0.1 in /opt/conda/lib/python3.7/site-packages (from matplotlib->catboost) (1.1.0)\n",
      "Requirement already satisfied: pyparsing!=2.0.4,!=2.1.2,!=2.1.6,>=2.0.1 in /opt/conda/lib/python3.7/site-packages (from matplotlib->catboost) (2.4.0)\n",
      "Requirement already satisfied: python-dateutil>=2.1 in /opt/conda/lib/python3.7/site-packages (from matplotlib->catboost) (2.8.0)\n",
      "Collecting retrying>=1.3.3 (from plotly->catboost)\n",
      "Requirement already satisfied: pytz>=2011k in /opt/conda/lib/python3.7/site-packages (from pandas>=0.24.0->catboost) (2019.1)\n",
      "Requirement already satisfied: setuptools in /opt/conda/lib/python3.7/site-packages (from kiwisolver>=1.0.1->matplotlib->catboost) (41.0.1)\n",
      "Installing collected packages: retrying, plotly, graphviz, numpy, catboost\n",
      "  Found existing installation: numpy 1.15.4\n",
      "    Uninstalling numpy-1.15.4:\n",
      "      Successfully uninstalled numpy-1.15.4\n",
      "Successfully installed catboost-0.23.2 graphviz-0.14 numpy-1.18.4 plotly-4.8.1 retrying-1.3.3\n",
      "Collecting lightgbm\n",
      "  Using cached https://files.pythonhosted.org/packages/0b/9d/ddcb2f43aca194987f1a99e27edf41cf9bc39ea750c3371c2a62698c509a/lightgbm-2.3.1-py2.py3-none-manylinux1_x86_64.whl\n",
      "Requirement already satisfied: scikit-learn in /opt/conda/lib/python3.7/site-packages (from lightgbm) (0.20.3)\n",
      "Requirement already satisfied: scipy in /opt/conda/lib/python3.7/site-packages (from lightgbm) (1.2.1)\n",
      "Requirement already satisfied: numpy in /opt/conda/lib/python3.7/site-packages (from lightgbm) (1.18.4)\n",
      "Installing collected packages: lightgbm\n",
      "Successfully installed lightgbm-2.3.1\n",
      "Collecting xgboost\n",
      "  Using cached https://files.pythonhosted.org/packages/75/6c/fb30ff1703846db8e8e511399e41123ac968dc29171f04e9f0b2585e40c9/xgboost-1.1.0-py3-none-manylinux2010_x86_64.whl\n",
      "Requirement already satisfied: scipy in /opt/conda/lib/python3.7/site-packages (from xgboost) (1.2.1)\n",
      "Requirement already satisfied: numpy in /opt/conda/lib/python3.7/site-packages (from xgboost) (1.18.4)\n",
      "Installing collected packages: xgboost\n",
      "Successfully installed xgboost-1.1.0\n"
     ]
    }
   ],
   "source": [
    "!pip install catboost\n",
    "!pip install lightgbm\n",
    "!pip install xgboost"
   ]
  },
  {
   "cell_type": "markdown",
   "metadata": {},
   "source": [
    "# Imports"
   ]
  },
  {
   "cell_type": "code",
   "execution_count": 9,
   "metadata": {
    "ExecuteTime": {
     "end_time": "2020-05-31T23:46:31.277770Z",
     "start_time": "2020-05-31T23:46:31.264059Z"
    }
   },
   "outputs": [],
   "source": [
    "import pandas as pd\n",
    "import numpy as np\n",
    "\n",
    "import matplotlib.pyplot as plt\n",
    "%matplotlib inline\n",
    "import scipy.stats as stats\n",
    "from scipy.stats import norm\n",
    "import seaborn as sns\n",
    "\n",
    "# pipeline based\n",
    "from sklearn.pipeline import Pipeline\n",
    "from sklearn.compose import ColumnTransformer\n",
    "from sklearn import set_config\n",
    "# set_config(display='diagram')\n",
    "\n",
    "\n",
    "# preprocessing based\n",
    "from sklearn.preprocessing import StandardScaler, OneHotEncoder\n",
    "from sklearn.preprocessing import PowerTransformer\n",
    "from sklearn.impute import SimpleImputer \n",
    "from sklearn.model_selection import train_test_split\n",
    "from sklearn.feature_selection import SelectKBest\n",
    "from sklearn.feature_selection import f_regression\n",
    "\n",
    "# model based\n",
    "from xgboost import XGBRegressor\n",
    "from sklearn.ensemble import RandomForestRegressor\n",
    "\n",
    "# hyper-parameters\n",
    "from sklearn.model_selection import RandomizedSearchCV\n",
    "from sklearn.model_selection import GridSearchCV\n",
    "\n",
    "# evaluation\n",
    "from sklearn.metrics import mean_squared_error\n",
    "from sklearn.model_selection import RepeatedKFold "
   ]
  },
  {
   "cell_type": "markdown",
   "metadata": {},
   "source": [
    "# data import"
   ]
  },
  {
   "cell_type": "code",
   "execution_count": 10,
   "metadata": {
    "ExecuteTime": {
     "end_time": "2020-05-31T23:46:33.939320Z",
     "start_time": "2020-05-31T23:46:33.530113Z"
    }
   },
   "outputs": [],
   "source": [
    "train = pd.read_csv('Train_extra_features.csv', index_col=0)\n",
    "test = pd.read_csv('Test_extra_features.csv', index_col=0)"
   ]
  },
  {
   "cell_type": "code",
   "execution_count": 11,
   "metadata": {
    "ExecuteTime": {
     "end_time": "2020-05-31T23:46:35.963681Z",
     "start_time": "2020-05-31T23:46:35.935320Z"
    }
   },
   "outputs": [
    {
     "data": {
      "text/html": [
       "<div>\n",
       "<style scoped>\n",
       "    .dataframe tbody tr th:only-of-type {\n",
       "        vertical-align: middle;\n",
       "    }\n",
       "\n",
       "    .dataframe tbody tr th {\n",
       "        vertical-align: top;\n",
       "    }\n",
       "\n",
       "    .dataframe thead th {\n",
       "        text-align: right;\n",
       "    }\n",
       "</style>\n",
       "<table border=\"1\" class=\"dataframe\">\n",
       "  <thead>\n",
       "    <tr style=\"text-align: right;\">\n",
       "      <th></th>\n",
       "      <th>Placement - Day of Month</th>\n",
       "      <th>Placement - Time</th>\n",
       "      <th>Confirmation - Time</th>\n",
       "      <th>Arrival at Pickup - Time</th>\n",
       "      <th>Pickup - Time</th>\n",
       "      <th>Distance (KM)</th>\n",
       "      <th>Temperature</th>\n",
       "      <th>Pickup Lat</th>\n",
       "      <th>Pickup Long</th>\n",
       "      <th>Destination Lat</th>\n",
       "      <th>...</th>\n",
       "      <th>Pickup_hour</th>\n",
       "      <th>Pickup_minute</th>\n",
       "      <th>Pickup_second</th>\n",
       "      <th>delta-Time-Confirmation_Placement</th>\n",
       "      <th>delta-Time-Arrival-at-Pickup_Confirmation</th>\n",
       "      <th>delta-Time-Pickup_Arrival-at-Pickup</th>\n",
       "      <th>Platform Type</th>\n",
       "      <th>Personal or Business</th>\n",
       "      <th>Placement - Weekday (Mo = 1)</th>\n",
       "      <th>Time from Pickup to Arrival</th>\n",
       "    </tr>\n",
       "  </thead>\n",
       "  <tbody>\n",
       "    <tr>\n",
       "      <th>0</th>\n",
       "      <td>9</td>\n",
       "      <td>34546.0</td>\n",
       "      <td>34810.0</td>\n",
       "      <td>36287.0</td>\n",
       "      <td>37650.0</td>\n",
       "      <td>4</td>\n",
       "      <td>20.4</td>\n",
       "      <td>-1.317755</td>\n",
       "      <td>36.830370</td>\n",
       "      <td>-1.300406</td>\n",
       "      <td>...</td>\n",
       "      <td>10</td>\n",
       "      <td>27</td>\n",
       "      <td>30</td>\n",
       "      <td>264.0</td>\n",
       "      <td>1477.0</td>\n",
       "      <td>1363.0</td>\n",
       "      <td>Type 3</td>\n",
       "      <td>Business</td>\n",
       "      <td>Friday</td>\n",
       "      <td>745</td>\n",
       "    </tr>\n",
       "    <tr>\n",
       "      <th>1</th>\n",
       "      <td>12</td>\n",
       "      <td>40576.0</td>\n",
       "      <td>41001.0</td>\n",
       "      <td>42022.0</td>\n",
       "      <td>42249.0</td>\n",
       "      <td>16</td>\n",
       "      <td>26.4</td>\n",
       "      <td>-1.351453</td>\n",
       "      <td>36.899315</td>\n",
       "      <td>-1.295004</td>\n",
       "      <td>...</td>\n",
       "      <td>11</td>\n",
       "      <td>44</td>\n",
       "      <td>9</td>\n",
       "      <td>425.0</td>\n",
       "      <td>1021.0</td>\n",
       "      <td>227.0</td>\n",
       "      <td>Type 3</td>\n",
       "      <td>Personal</td>\n",
       "      <td>Friday</td>\n",
       "      <td>1993</td>\n",
       "    </tr>\n",
       "    <tr>\n",
       "      <th>2</th>\n",
       "      <td>30</td>\n",
       "      <td>45565.0</td>\n",
       "      <td>45764.0</td>\n",
       "      <td>46174.0</td>\n",
       "      <td>46383.0</td>\n",
       "      <td>3</td>\n",
       "      <td>NaN</td>\n",
       "      <td>-1.308284</td>\n",
       "      <td>36.843419</td>\n",
       "      <td>-1.300921</td>\n",
       "      <td>...</td>\n",
       "      <td>12</td>\n",
       "      <td>53</td>\n",
       "      <td>3</td>\n",
       "      <td>199.0</td>\n",
       "      <td>410.0</td>\n",
       "      <td>209.0</td>\n",
       "      <td>Type 3</td>\n",
       "      <td>Business</td>\n",
       "      <td>Tuesday</td>\n",
       "      <td>455</td>\n",
       "    </tr>\n",
       "    <tr>\n",
       "      <th>3</th>\n",
       "      <td>15</td>\n",
       "      <td>33934.0</td>\n",
       "      <td>33965.0</td>\n",
       "      <td>34676.0</td>\n",
       "      <td>34986.0</td>\n",
       "      <td>9</td>\n",
       "      <td>19.2</td>\n",
       "      <td>-1.281301</td>\n",
       "      <td>36.832396</td>\n",
       "      <td>-1.257147</td>\n",
       "      <td>...</td>\n",
       "      <td>9</td>\n",
       "      <td>43</td>\n",
       "      <td>6</td>\n",
       "      <td>31.0</td>\n",
       "      <td>711.0</td>\n",
       "      <td>310.0</td>\n",
       "      <td>Type 3</td>\n",
       "      <td>Business</td>\n",
       "      <td>Friday</td>\n",
       "      <td>1341</td>\n",
       "    </tr>\n",
       "    <tr>\n",
       "      <th>4</th>\n",
       "      <td>13</td>\n",
       "      <td>35718.0</td>\n",
       "      <td>35778.0</td>\n",
       "      <td>36233.0</td>\n",
       "      <td>36323.0</td>\n",
       "      <td>9</td>\n",
       "      <td>15.4</td>\n",
       "      <td>-1.266597</td>\n",
       "      <td>36.792118</td>\n",
       "      <td>-1.295041</td>\n",
       "      <td>...</td>\n",
       "      <td>10</td>\n",
       "      <td>5</td>\n",
       "      <td>23</td>\n",
       "      <td>60.0</td>\n",
       "      <td>455.0</td>\n",
       "      <td>90.0</td>\n",
       "      <td>Type 1</td>\n",
       "      <td>Personal</td>\n",
       "      <td>Monday</td>\n",
       "      <td>1214</td>\n",
       "    </tr>\n",
       "  </tbody>\n",
       "</table>\n",
       "<p>5 rows × 34 columns</p>\n",
       "</div>"
      ],
      "text/plain": [
       "   Placement - Day of Month  Placement - Time  Confirmation - Time  \\\n",
       "0                         9           34546.0              34810.0   \n",
       "1                        12           40576.0              41001.0   \n",
       "2                        30           45565.0              45764.0   \n",
       "3                        15           33934.0              33965.0   \n",
       "4                        13           35718.0              35778.0   \n",
       "\n",
       "   Arrival at Pickup - Time  Pickup - Time  Distance (KM)  Temperature  \\\n",
       "0                   36287.0        37650.0              4         20.4   \n",
       "1                   42022.0        42249.0             16         26.4   \n",
       "2                   46174.0        46383.0              3          NaN   \n",
       "3                   34676.0        34986.0              9         19.2   \n",
       "4                   36233.0        36323.0              9         15.4   \n",
       "\n",
       "   Pickup Lat  Pickup Long  Destination Lat  ...  Pickup_hour  Pickup_minute  \\\n",
       "0   -1.317755    36.830370        -1.300406  ...           10             27   \n",
       "1   -1.351453    36.899315        -1.295004  ...           11             44   \n",
       "2   -1.308284    36.843419        -1.300921  ...           12             53   \n",
       "3   -1.281301    36.832396        -1.257147  ...            9             43   \n",
       "4   -1.266597    36.792118        -1.295041  ...           10              5   \n",
       "\n",
       "   Pickup_second  delta-Time-Confirmation_Placement  \\\n",
       "0             30                              264.0   \n",
       "1              9                              425.0   \n",
       "2              3                              199.0   \n",
       "3              6                               31.0   \n",
       "4             23                               60.0   \n",
       "\n",
       "   delta-Time-Arrival-at-Pickup_Confirmation  \\\n",
       "0                                     1477.0   \n",
       "1                                     1021.0   \n",
       "2                                      410.0   \n",
       "3                                      711.0   \n",
       "4                                      455.0   \n",
       "\n",
       "   delta-Time-Pickup_Arrival-at-Pickup  Platform Type  Personal or Business  \\\n",
       "0                               1363.0         Type 3              Business   \n",
       "1                                227.0         Type 3              Personal   \n",
       "2                                209.0         Type 3              Business   \n",
       "3                                310.0         Type 3              Business   \n",
       "4                                 90.0         Type 1              Personal   \n",
       "\n",
       "   Placement - Weekday (Mo = 1)  Time from Pickup to Arrival  \n",
       "0                        Friday                          745  \n",
       "1                        Friday                         1993  \n",
       "2                       Tuesday                          455  \n",
       "3                        Friday                         1341  \n",
       "4                        Monday                         1214  \n",
       "\n",
       "[5 rows x 34 columns]"
      ]
     },
     "execution_count": 11,
     "metadata": {},
     "output_type": "execute_result"
    }
   ],
   "source": [
    "train.head()"
   ]
  },
  {
   "cell_type": "code",
   "execution_count": null,
   "metadata": {
    "ExecuteTime": {
     "end_time": "2020-05-31T22:22:17.702610Z",
     "start_time": "2020-05-31T22:22:17.695231Z"
    }
   },
   "outputs": [],
   "source": [
    "train.columns.to_list()"
   ]
  },
  {
   "cell_type": "markdown",
   "metadata": {},
   "source": [
    "# Feature Engineering pipeline"
   ]
  },
  {
   "cell_type": "code",
   "execution_count": null,
   "metadata": {},
   "outputs": [],
   "source": []
  },
  {
   "cell_type": "markdown",
   "metadata": {},
   "source": [
    "# Train Test Split"
   ]
  },
  {
   "cell_type": "code",
   "execution_count": 12,
   "metadata": {
    "ExecuteTime": {
     "end_time": "2020-05-31T23:46:39.450687Z",
     "start_time": "2020-05-31T23:46:39.423881Z"
    }
   },
   "outputs": [],
   "source": [
    "# get features for preprocessing\n",
    "categorical_features = [feature for feature in train.columns if train[feature].nunique() < 10 and train[feature].dtypes == 'object']\n",
    "numerical_features = [feature for feature in train.columns if train[feature].dtypes in ['int64', 'float64'] and feature != 'Time from Pickup to Arrival']"
   ]
  },
  {
   "cell_type": "code",
   "execution_count": 13,
   "metadata": {
    "ExecuteTime": {
     "end_time": "2020-05-31T23:46:42.080864Z",
     "start_time": "2020-05-31T23:46:42.074936Z"
    }
   },
   "outputs": [
    {
     "data": {
      "text/plain": [
       "['Platform Type', 'Personal or Business', 'Placement - Weekday (Mo = 1)']"
      ]
     },
     "execution_count": 13,
     "metadata": {},
     "output_type": "execute_result"
    }
   ],
   "source": [
    "categorical_features"
   ]
  },
  {
   "cell_type": "code",
   "execution_count": 14,
   "metadata": {
    "ExecuteTime": {
     "end_time": "2020-05-31T23:46:43.456190Z",
     "start_time": "2020-05-31T23:46:43.430684Z"
    }
   },
   "outputs": [
    {
     "data": {
      "text/plain": [
       "((16959, 33), (4240, 33), (16959,), (4240,))"
      ]
     },
     "execution_count": 14,
     "metadata": {},
     "output_type": "execute_result"
    }
   ],
   "source": [
    "# separate predictors from the target\n",
    "X = train[numerical_features + categorical_features]\n",
    "y = train['Time from Pickup to Arrival']\n",
    "\n",
    "# split the data into subsets\n",
    "X_train, X_valid, y_train, y_valid = train_test_split(X, y, test_size=0.2, random_state=42)\n",
    "\n",
    "# view X_train, X_valid dimensions\n",
    "X_train.shape, X_valid.shape, y_train.shape, y_valid.shape"
   ]
  },
  {
   "cell_type": "code",
   "execution_count": 15,
   "metadata": {
    "ExecuteTime": {
     "end_time": "2020-05-31T23:46:44.956730Z",
     "start_time": "2020-05-31T23:46:44.925042Z"
    }
   },
   "outputs": [
    {
     "data": {
      "text/html": [
       "<div>\n",
       "<style scoped>\n",
       "    .dataframe tbody tr th:only-of-type {\n",
       "        vertical-align: middle;\n",
       "    }\n",
       "\n",
       "    .dataframe tbody tr th {\n",
       "        vertical-align: top;\n",
       "    }\n",
       "\n",
       "    .dataframe thead th {\n",
       "        text-align: right;\n",
       "    }\n",
       "</style>\n",
       "<table border=\"1\" class=\"dataframe\">\n",
       "  <thead>\n",
       "    <tr style=\"text-align: right;\">\n",
       "      <th></th>\n",
       "      <th>Placement - Day of Month</th>\n",
       "      <th>Placement - Time</th>\n",
       "      <th>Confirmation - Time</th>\n",
       "      <th>Arrival at Pickup - Time</th>\n",
       "      <th>Pickup - Time</th>\n",
       "      <th>Distance (KM)</th>\n",
       "      <th>Temperature</th>\n",
       "      <th>Pickup Lat</th>\n",
       "      <th>Pickup Long</th>\n",
       "      <th>Destination Lat</th>\n",
       "      <th>...</th>\n",
       "      <th>Arrival at Pickup_second</th>\n",
       "      <th>Pickup_hour</th>\n",
       "      <th>Pickup_minute</th>\n",
       "      <th>Pickup_second</th>\n",
       "      <th>delta-Time-Confirmation_Placement</th>\n",
       "      <th>delta-Time-Arrival-at-Pickup_Confirmation</th>\n",
       "      <th>delta-Time-Pickup_Arrival-at-Pickup</th>\n",
       "      <th>Platform Type</th>\n",
       "      <th>Personal or Business</th>\n",
       "      <th>Placement - Weekday (Mo = 1)</th>\n",
       "    </tr>\n",
       "  </thead>\n",
       "  <tbody>\n",
       "    <tr>\n",
       "      <th>11489</th>\n",
       "      <td>26</td>\n",
       "      <td>34654.0</td>\n",
       "      <td>34663.0</td>\n",
       "      <td>34813.0</td>\n",
       "      <td>35392.0</td>\n",
       "      <td>4</td>\n",
       "      <td>NaN</td>\n",
       "      <td>-1.260093</td>\n",
       "      <td>36.808869</td>\n",
       "      <td>-1.265715</td>\n",
       "      <td>...</td>\n",
       "      <td>13</td>\n",
       "      <td>9</td>\n",
       "      <td>49</td>\n",
       "      <td>52</td>\n",
       "      <td>9.0</td>\n",
       "      <td>150.0</td>\n",
       "      <td>579.0</td>\n",
       "      <td>Type 3</td>\n",
       "      <td>Business</td>\n",
       "      <td>Friday</td>\n",
       "    </tr>\n",
       "    <tr>\n",
       "      <th>13451</th>\n",
       "      <td>22</td>\n",
       "      <td>49612.0</td>\n",
       "      <td>49672.0</td>\n",
       "      <td>50184.0</td>\n",
       "      <td>50758.0</td>\n",
       "      <td>10</td>\n",
       "      <td>31.1</td>\n",
       "      <td>-1.301446</td>\n",
       "      <td>36.766138</td>\n",
       "      <td>-1.252796</td>\n",
       "      <td>...</td>\n",
       "      <td>24</td>\n",
       "      <td>14</td>\n",
       "      <td>5</td>\n",
       "      <td>58</td>\n",
       "      <td>60.0</td>\n",
       "      <td>512.0</td>\n",
       "      <td>574.0</td>\n",
       "      <td>Type 3</td>\n",
       "      <td>Business</td>\n",
       "      <td>Friday</td>\n",
       "    </tr>\n",
       "    <tr>\n",
       "      <th>8592</th>\n",
       "      <td>12</td>\n",
       "      <td>56407.0</td>\n",
       "      <td>57242.0</td>\n",
       "      <td>59210.0</td>\n",
       "      <td>59393.0</td>\n",
       "      <td>22</td>\n",
       "      <td>21.0</td>\n",
       "      <td>-1.255189</td>\n",
       "      <td>36.782203</td>\n",
       "      <td>-1.343330</td>\n",
       "      <td>...</td>\n",
       "      <td>50</td>\n",
       "      <td>16</td>\n",
       "      <td>29</td>\n",
       "      <td>53</td>\n",
       "      <td>835.0</td>\n",
       "      <td>1968.0</td>\n",
       "      <td>183.0</td>\n",
       "      <td>Type 3</td>\n",
       "      <td>Business</td>\n",
       "      <td>Wednesday</td>\n",
       "    </tr>\n",
       "    <tr>\n",
       "      <th>4339</th>\n",
       "      <td>13</td>\n",
       "      <td>46149.0</td>\n",
       "      <td>46166.0</td>\n",
       "      <td>46557.0</td>\n",
       "      <td>47252.0</td>\n",
       "      <td>4</td>\n",
       "      <td>NaN</td>\n",
       "      <td>-1.257147</td>\n",
       "      <td>36.795063</td>\n",
       "      <td>-1.274755</td>\n",
       "      <td>...</td>\n",
       "      <td>57</td>\n",
       "      <td>13</td>\n",
       "      <td>7</td>\n",
       "      <td>32</td>\n",
       "      <td>17.0</td>\n",
       "      <td>391.0</td>\n",
       "      <td>695.0</td>\n",
       "      <td>Type 3</td>\n",
       "      <td>Business</td>\n",
       "      <td>Monday</td>\n",
       "    </tr>\n",
       "    <tr>\n",
       "      <th>3287</th>\n",
       "      <td>20</td>\n",
       "      <td>45495.0</td>\n",
       "      <td>45515.0</td>\n",
       "      <td>46233.0</td>\n",
       "      <td>50338.0</td>\n",
       "      <td>18</td>\n",
       "      <td>27.8</td>\n",
       "      <td>-1.257147</td>\n",
       "      <td>36.795063</td>\n",
       "      <td>-1.333994</td>\n",
       "      <td>...</td>\n",
       "      <td>33</td>\n",
       "      <td>13</td>\n",
       "      <td>58</td>\n",
       "      <td>58</td>\n",
       "      <td>20.0</td>\n",
       "      <td>718.0</td>\n",
       "      <td>4105.0</td>\n",
       "      <td>Type 3</td>\n",
       "      <td>Business</td>\n",
       "      <td>Thursday</td>\n",
       "    </tr>\n",
       "  </tbody>\n",
       "</table>\n",
       "<p>5 rows × 33 columns</p>\n",
       "</div>"
      ],
      "text/plain": [
       "       Placement - Day of Month  Placement - Time  Confirmation - Time  \\\n",
       "11489                        26           34654.0              34663.0   \n",
       "13451                        22           49612.0              49672.0   \n",
       "8592                         12           56407.0              57242.0   \n",
       "4339                         13           46149.0              46166.0   \n",
       "3287                         20           45495.0              45515.0   \n",
       "\n",
       "       Arrival at Pickup - Time  Pickup - Time  Distance (KM)  Temperature  \\\n",
       "11489                   34813.0        35392.0              4          NaN   \n",
       "13451                   50184.0        50758.0             10         31.1   \n",
       "8592                    59210.0        59393.0             22         21.0   \n",
       "4339                    46557.0        47252.0              4          NaN   \n",
       "3287                    46233.0        50338.0             18         27.8   \n",
       "\n",
       "       Pickup Lat  Pickup Long  Destination Lat  ...  \\\n",
       "11489   -1.260093    36.808869        -1.265715  ...   \n",
       "13451   -1.301446    36.766138        -1.252796  ...   \n",
       "8592    -1.255189    36.782203        -1.343330  ...   \n",
       "4339    -1.257147    36.795063        -1.274755  ...   \n",
       "3287    -1.257147    36.795063        -1.333994  ...   \n",
       "\n",
       "       Arrival at Pickup_second  Pickup_hour  Pickup_minute  Pickup_second  \\\n",
       "11489                        13            9             49             52   \n",
       "13451                        24           14              5             58   \n",
       "8592                         50           16             29             53   \n",
       "4339                         57           13              7             32   \n",
       "3287                         33           13             58             58   \n",
       "\n",
       "       delta-Time-Confirmation_Placement  \\\n",
       "11489                                9.0   \n",
       "13451                               60.0   \n",
       "8592                               835.0   \n",
       "4339                                17.0   \n",
       "3287                                20.0   \n",
       "\n",
       "       delta-Time-Arrival-at-Pickup_Confirmation  \\\n",
       "11489                                      150.0   \n",
       "13451                                      512.0   \n",
       "8592                                      1968.0   \n",
       "4339                                       391.0   \n",
       "3287                                       718.0   \n",
       "\n",
       "       delta-Time-Pickup_Arrival-at-Pickup  Platform Type  \\\n",
       "11489                                579.0         Type 3   \n",
       "13451                                574.0         Type 3   \n",
       "8592                                 183.0         Type 3   \n",
       "4339                                 695.0         Type 3   \n",
       "3287                                4105.0         Type 3   \n",
       "\n",
       "       Personal or Business  Placement - Weekday (Mo = 1)  \n",
       "11489              Business                        Friday  \n",
       "13451              Business                        Friday  \n",
       "8592               Business                     Wednesday  \n",
       "4339               Business                        Monday  \n",
       "3287               Business                      Thursday  \n",
       "\n",
       "[5 rows x 33 columns]"
      ]
     },
     "execution_count": 15,
     "metadata": {},
     "output_type": "execute_result"
    }
   ],
   "source": [
    "X_train.head()"
   ]
  },
  {
   "cell_type": "markdown",
   "metadata": {
    "heading_collapsed": true
   },
   "source": [
    "#  pipeline\n",
    "---\n",
    "\n",
    "1. Preprocesing\n",
    "\n",
    "2. Feature Selection\n",
    "\n",
    "3. Model Defination\n",
    "\n",
    "\n"
   ]
  },
  {
   "cell_type": "markdown",
   "metadata": {},
   "source": [
    "# Step 1: Preprocessing pipeline\n",
    "---\n",
    "\n",
    "1. Numeric Features\n",
    "    - NAN Imputation\n",
    "    - Scaling : \n",
    "        - **PowerTransformation** standardize=True,   Box-Cox or Yeo-Johnson applied to various probability distributions\n",
    "        - or StandardScaler\n",
    "\n",
    "2. Categorical Features ['Platform Type','Personal or Business', 'Placement - Weekday (Mo = 1)']\n",
    "    - NAN Imputation\n",
    "    - Encoding: drop first, handle_unknown='ignore'\n",
    "        - OneHoteEncode --> ['Personal or Business' ,'Placement - Weekday (Mo = 1)']\n",
    "\n",
    "3. Feature Selection\n",
    "     - Select From Model, VarianceThrehold"
   ]
  },
  {
   "cell_type": "markdown",
   "metadata": {},
   "source": [
    "**Pipeline starts**"
   ]
  },
  {
   "cell_type": "code",
   "execution_count": 16,
   "metadata": {
    "ExecuteTime": {
     "end_time": "2020-05-31T23:46:51.141175Z",
     "start_time": "2020-05-31T23:46:51.132161Z"
    }
   },
   "outputs": [],
   "source": [
    "# numeric Transformers\n",
    "numerical_transformer = Pipeline(steps=[\n",
    "                            ('impute', SimpleImputer(strategy='mean')),\n",
    "                            ('scale', StandardScaler())\n",
    "                        ])\n",
    "\n",
    "# --------------------------------------------------------------------------------\n",
    "# Categorical Transformers\n",
    "categorical_transformer =  Pipeline(steps=[\n",
    "                                    ('impute',SimpleImputer(strategy='most_frequent')),\n",
    "                                    ('encode', OneHotEncoder(handle_unknown='ignore'))\n",
    "                                ])\n",
    "\n",
    "# --------------------------------------------------------------------------------\n",
    "# Preprocesing  pipeline\n",
    "preprocessor = ColumnTransformer(transformers=[\n",
    "                                            ('num', numerical_transformer, numerical_features ),\n",
    "                                            ('cat', categorical_transformer, categorical_features)\n",
    "                                            ],\n",
    "                                            remainder='passthrough') # might remove pass through, if we got all our features done\n",
    "\n",
    "\n",
    "\n",
    "# --------------------------------------------------------------------------------\n",
    "# define a function to complete the model by adding the model \n",
    "def full_pipeline(model, preprocessor=preprocessor):\n",
    "    \n",
    "    return Pipeline(steps=[\n",
    "                    ('preprocessor', preprocessor),\n",
    "                    ('selector', SelectKBest(score_func=f_regression, k=10)),\n",
    "                    ('model', model)\n",
    "                ])\n"
   ]
  },
  {
   "cell_type": "markdown",
   "metadata": {},
   "source": [
    "# Step 2: Feature Selection\n",
    "---\n",
    "\n",
    "**What we are Willing To try!**\n",
    "1. VarianceThrehold\n",
    "2. Select From Model\n",
    "3. PCA with variance control or n_componets = 2"
   ]
  },
  {
   "cell_type": "code",
   "execution_count": null,
   "metadata": {
    "ExecuteTime": {
     "end_time": "2020-05-31T22:22:17.844011Z",
     "start_time": "2020-05-31T22:22:17.840367Z"
    }
   },
   "outputs": [],
   "source": []
  },
  {
   "cell_type": "markdown",
   "metadata": {},
   "source": [
    "# Step 3: Define the Model\n",
    "---\n",
    "\n",
    "**Global Costants:**\n",
    "1. random_state = 42\n",
    "2. RMSE\n",
    "2. GridSearchCV\n",
    "    - for optimal parameter hunting\n",
    "\n",
    "---\n",
    "\n",
    "**Baseline Model Algorithms:**\n",
    "1. Random Forest Regressor\n",
    "    - n_estimators = 100\n",
    "\n",
    "---\n",
    "\n",
    "**Alternate Algorithms:**\n",
    "1. Random Forest Regressor \n",
    "    - With Tuned Parameters\n",
    "\n",
    "2. XGBoost Regressor\n",
    "    - Default\n",
    "    - Tuned parameters\n",
    "    \n",
    "3. CatBoost Regressor\n",
    "    - Default\n",
    "    - Tuned parameters\n",
    "\n",
    "4. LightGBM Regressor\n",
    "    - Default\n",
    "    - Tuned parameters\n",
    "    \n",
    "---\n",
    "\n",
    "**Advanced Ensemble Method:**\n",
    "\n",
    "1. Stacking Regressor\n",
    "\n",
    "    - Defination: level-1 [ 3 models ] level-2 [ 2 models ] mata-learner [1 model] \n",
    "    - ------------------------------------\n",
    "    - **experiment-0**:\n",
    "        - **level-1** [ Cart, KNN, SVM ] \n",
    "        - **mata-learner** [Linear Regression] <br>\n",
    "    - ------------------------------------\n",
    "     - **experiment-1**:\n",
    "        - **level-1** [ XGBoost, CatBoost, LightGBM] \n",
    "        - **level-2** [ XGBoost Regressor & RandomForest ]\n",
    "        - **mata-learner** [RandomForest] <br>\n",
    "    - ------------------------------------\n",
    "2. Bagging Regressor\n",
    "    - \n",
    "\n",
    "3. More...\n"
   ]
  },
  {
   "cell_type": "code",
   "execution_count": 17,
   "metadata": {
    "ExecuteTime": {
     "end_time": "2020-05-31T23:46:59.509925Z",
     "start_time": "2020-05-31T23:46:59.503904Z"
    }
   },
   "outputs": [],
   "source": [
    "########################################################################################\n",
    "#-----------------------------Random Forest Regressor----------------------------------\n",
    "########################################################################################\n",
    "\n",
    "rf_base_model = RandomForestRegressor(n_estimators=100, random_state=42, n_jobs=-1)\n",
    "\n",
    "\n",
    "# ------------------complete pipeline--------------------\n",
    "rf_pipe = full_pipeline(rf_base_model)\n",
    "\n",
    "\n"
   ]
  },
  {
   "cell_type": "code",
   "execution_count": 18,
   "metadata": {
    "ExecuteTime": {
     "end_time": "2020-05-31T23:47:00.896322Z",
     "start_time": "2020-05-31T23:47:00.886116Z"
    }
   },
   "outputs": [],
   "source": [
    "########################################################################################\n",
    "#-----------------------------------------XGBOOST---------------------------------------\n",
    "########################################################################################\n",
    "\n",
    "param_grid = {'learning_rate': [0.01, 0.02, 0.05, 0.1, 0.2, 0.3, 0.4, 0.5, 0.6, 0.7, 0.8, 0.9, 1], \n",
    "              'n_estimators':[10, 30, 50, 100, 200, 300, 400, 500, 600, 700, 800, 900, 1000], \n",
    "              'subsample': [0.1, 0.2, 0.3, 0.5, 0.7, 0.9, 1],\n",
    "              'max_depth': [int(x) for x in np.linspace(10, 110, num = 11)], \n",
    "              'colsample_bytree': [0.5, 0.7, 0.9, 1],\n",
    "              'min_child_weight': [1, 2, 3, 4]\n",
    "              }\n",
    "\n",
    "# A parameter grid search for XGBoost\n",
    "params = {\n",
    "        'min_child_weight': [1, 5, 10],\n",
    "        'gamma': [0.5, 1, 1.5, 2, 5],\n",
    "        'subsample': [0.6, 0.8, 1.0],\n",
    "        'colsample_bytree': [0.6, 0.8, 1.0],\n",
    "        'max_depth': [3, 4, 5]\n",
    "        }\n",
    "\n",
    "xgb_model = XGBRegressor(random_state=42 , n_jobs=-1, verbosity=0)\n",
    "\n",
    "\n",
    "# ------------------complete pipeline--------------------\n",
    "xgb_pipe = full_pipeline(xgb_model)\n"
   ]
  },
  {
   "cell_type": "markdown",
   "metadata": {},
   "source": [
    "# Evaluation"
   ]
  },
  {
   "cell_type": "code",
   "execution_count": 19,
   "metadata": {
    "ExecuteTime": {
     "end_time": "2020-05-31T23:47:05.466719Z",
     "start_time": "2020-05-31T23:47:05.461189Z"
    }
   },
   "outputs": [],
   "source": [
    "def evaluate(model, X, y ):\n",
    "    from sklearn.model_selection import cross_val_score\n",
    "    from sklearn.model_selection import RepeatedKFold\n",
    "\n",
    "    cv = RepeatedKFold(n_splits=10, n_repeats=3, random_state=42)\n",
    "    scores = cross_val_score(model, X, y, scoring='neg_mean_squared_error', cv=cv, n_jobs=-1, error_score='raise')\n",
    "    score = np.mean(scores)\n",
    "\n",
    "    return np.sqrt(abs(score))"
   ]
  },
  {
   "cell_type": "code",
   "execution_count": 72,
   "metadata": {
    "ExecuteTime": {
     "end_time": "2020-05-31T23:17:21.048811Z",
     "start_time": "2020-05-31T23:15:52.411100Z"
    }
   },
   "outputs": [
    {
     "data": {
      "text/plain": [
       "762.3910175615549"
      ]
     },
     "execution_count": 72,
     "metadata": {},
     "output_type": "execute_result"
    }
   ],
   "source": [
    "# xgboost\n",
    "evaluate(xgb_pipe, X, y )"
   ]
  },
  {
   "cell_type": "code",
   "execution_count": 20,
   "metadata": {
    "ExecuteTime": {
     "end_time": "2020-05-31T23:55:25.625653Z",
     "start_time": "2020-05-31T23:47:16.634892Z"
    }
   },
   "outputs": [
    {
     "data": {
      "text/plain": [
       "766.1410758097359"
      ]
     },
     "execution_count": 20,
     "metadata": {},
     "output_type": "execute_result"
    }
   ],
   "source": [
    "# random forest \n",
    "evaluate(rf_pipe, X, y )"
   ]
  },
  {
   "cell_type": "code",
   "execution_count": null,
   "metadata": {
    "ExecuteTime": {
     "start_time": "2020-06-01T00:22:29.506Z"
    }
   },
   "outputs": [],
   "source": [
    "import sklearn"
   ]
  },
  {
   "cell_type": "code",
   "execution_count": null,
   "metadata": {
    "ExecuteTime": {
     "start_time": "2020-06-01T00:22:31.281Z"
    }
   },
   "outputs": [],
   "source": [
    "sklearn.__version__"
   ]
  },
  {
   "cell_type": "code",
   "execution_count": null,
   "metadata": {},
   "outputs": [],
   "source": []
  }
 ],
 "metadata": {
  "hide_input": false,
  "kernelspec": {
   "display_name": "Python 3",
   "language": "python",
   "name": "python3"
  },
  "language_info": {
   "codemirror_mode": {
    "name": "ipython",
    "version": 3
   },
   "file_extension": ".py",
   "mimetype": "text/x-python",
   "name": "python",
   "nbconvert_exporter": "python",
   "pygments_lexer": "ipython3",
   "version": "3.7.3"
  },
  "latex_envs": {
   "LaTeX_envs_menu_present": true,
   "autoclose": false,
   "autocomplete": true,
   "bibliofile": "biblio.bib",
   "cite_by": "apalike",
   "current_citInitial": 1,
   "eqLabelWithNumbers": true,
   "eqNumInitial": 1,
   "hotkeys": {
    "equation": "Ctrl-E",
    "itemize": "Ctrl-I"
   },
   "labels_anchors": false,
   "latex_user_defs": false,
   "report_style_numbering": false,
   "user_envs_cfg": false
  },
  "toc": {
   "base_numbering": 1,
   "nav_menu": {},
   "number_sections": true,
   "sideBar": true,
   "skip_h1_title": false,
   "title_cell": "Table of Contents",
   "title_sidebar": "Contents",
   "toc_cell": false,
   "toc_position": {},
   "toc_section_display": true,
   "toc_window_display": false
  },
  "varInspector": {
   "cols": {
    "lenName": 16,
    "lenType": 16,
    "lenVar": 40
   },
   "kernels_config": {
    "python": {
     "delete_cmd_postfix": "",
     "delete_cmd_prefix": "del ",
     "library": "var_list.py",
     "varRefreshCmd": "print(var_dic_list())"
    },
    "r": {
     "delete_cmd_postfix": ") ",
     "delete_cmd_prefix": "rm(",
     "library": "var_list.r",
     "varRefreshCmd": "cat(var_dic_list()) "
    }
   },
   "types_to_exclude": [
    "module",
    "function",
    "builtin_function_or_method",
    "instance",
    "_Feature"
   ],
   "window_display": false
  },
  "widgets": {
   "application/vnd.jupyter.widget-state+json": {
    "state": {},
    "version_major": 2,
    "version_minor": 0
   }
  }
 },
 "nbformat": 4,
 "nbformat_minor": 2
}
